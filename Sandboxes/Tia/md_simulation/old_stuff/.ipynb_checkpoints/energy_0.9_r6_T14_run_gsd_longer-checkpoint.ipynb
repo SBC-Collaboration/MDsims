{
 "cells": [
  {
   "cell_type": "code",
   "execution_count": 1,
   "id": "aa59f3b6-180e-4e4e-8b8d-4d25789f305c",
   "metadata": {},
   "outputs": [],
   "source": [
    "energy = 0.9\n",
    "pressure= .004\n",
    "radius = 6\n",
    "tempSpike = 14"
   ]
  },
  {
   "cell_type": "code",
   "execution_count": 2,
   "id": "8063a739-0c14-4f1b-8566-3190bf79493f",
   "metadata": {},
   "outputs": [],
   "source": [
    "import numpy as np\n",
    "import hoomd\n",
    "import fresnel\n",
    "import matplotlib.pyplot as plt\n",
    "import scipy\n",
    "import h5py\n",
    "import gsd.hoomd\n",
    "import itertools\n",
    "import math\n",
    "import time\n",
    "import os\n",
    "import matplotlib\n",
    "\n",
    "%matplotlib inline\n",
    "matplotlib.style.use('ggplot')\n",
    "import matplotlib_inline\n",
    "\n",
    "matplotlib_inline.backend_inline.set_matplotlib_formats('svg')"
   ]
  },
  {
   "cell_type": "code",
   "execution_count": 3,
   "id": "f5d4f1c5-ed36-45d4-9fe9-f194443d73ad",
   "metadata": {},
   "outputs": [],
   "source": [
    "# This is not intended as a full tutorial on fresnel - see the\n",
    "# fresnel user documentation (https://fresnel.readthedocs.io/) if you would like to learn more.\n",
    "\n",
    "import warnings\n",
    "\n",
    "import fresnel\n",
    "import IPython\n",
    "import packaging.version\n",
    "\n",
    "device = fresnel.Device()\n",
    "tracer = fresnel.tracer.Path(device=device, w=300, h=300)\n",
    "\n",
    "FRESNEL_MIN_VERSION = packaging.version.parse(\"0.13.0\")\n",
    "FRESNEL_MAX_VERSION = packaging.version.parse(\"0.14.0\")\n",
    "\n",
    "\n",
    "def render(snapshot):\n",
    "    if ('version' not in dir(fresnel) or packaging.version.parse(\n",
    "            fresnel.version.version) < FRESNEL_MIN_VERSION\n",
    "            or packaging.version.parse(\n",
    "                fresnel.version.version) >= FRESNEL_MAX_VERSION):\n",
    "        warnings.warn(\n",
    "            f\"Unsupported fresnel version {fresnel.version.version} - expect errors.\"\n",
    "        )\n",
    "    L = snapshot.configuration.box\n",
    "    \n",
    "    scene = fresnel.Scene(device)\n",
    "    geometry = fresnel.geometry.Sphere(scene,\n",
    "                                       N=len(snapshot.particles.position),\n",
    "                                       radius=0.5)\n",
    "    geometry.material = fresnel.material.Material(color=fresnel.color.linear(\n",
    "        [252 / 255, 192 / 255, 203 / 255]),\n",
    "                                                  roughness=0.5)\n",
    "    geometry.position[:] = snapshot.particles.position[:]\n",
    "    geometry.outline_width = 0.04\n",
    "    box = fresnel.geometry.Box(scene, [L[0], L[1], L[2], 0, 0, 0], box_radius=.02)\n",
    "\n",
    "    scene.lights = [\n",
    "        fresnel.light.Light(direction=(0, 0, 1),\n",
    "                            color=(0.8, 0.8, 0.8),\n",
    "                            theta=math.pi),\n",
    "        fresnel.light.Light(direction=(1, 1, 1),\n",
    "                            color=(1.1, 1.1, 1.1),\n",
    "                            theta=math.pi / 3)\n",
    "    ]\n",
    "    scene.camera = fresnel.camera.Orthographic(position=(L[0] * 2, L[1], L[2] * 2),\n",
    "                                               look_at=(0, 0, 0),\n",
    "                                               up=(0, 1, 0),\n",
    "                                               height=L[2] * 1.4 + 1)\n",
    "    scene.background_alpha = 1\n",
    "    scene.background_color = (1, 1, 1)\n",
    "    return IPython.display.Image(tracer.sample(scene, samples=500)._repr_png_())"
   ]
  },
  {
   "cell_type": "code",
   "execution_count": 4,
   "id": "fdbee5f7-ad1d-46f5-bcdc-bb6c99d9aee7",
   "metadata": {},
   "outputs": [
    {
     "ename": "RuntimeError",
     "evalue": "GSD: No such file or directory - longerRun14energy0.9r6.gsd",
     "output_type": "error",
     "traceback": [
      "\u001b[0;31m---------------------------------------------------------------------------\u001b[0m",
      "\u001b[0;31mRuntimeError\u001b[0m                              Traceback (most recent call last)",
      "Cell \u001b[0;32mIn[4], line 3\u001b[0m\n\u001b[1;32m      1\u001b[0m cpu \u001b[38;5;241m=\u001b[39m hoomd\u001b[38;5;241m.\u001b[39mdevice\u001b[38;5;241m.\u001b[39mCPU()\n\u001b[1;32m      2\u001b[0m simulation \u001b[38;5;241m=\u001b[39m hoomd\u001b[38;5;241m.\u001b[39mSimulation(device\u001b[38;5;241m=\u001b[39mcpu, seed\u001b[38;5;241m=\u001b[39m\u001b[38;5;241m1\u001b[39m)\n\u001b[0;32m----> 3\u001b[0m \u001b[43msimulation\u001b[49m\u001b[38;5;241;43m.\u001b[39;49m\u001b[43mcreate_state_from_gsd\u001b[49m\u001b[43m(\u001b[49m\u001b[43mfilename\u001b[49m\u001b[38;5;241;43m=\u001b[39;49m\u001b[38;5;124;43m\"\u001b[39;49m\u001b[38;5;124;43mlongerRun\u001b[39;49m\u001b[38;5;124;43m\"\u001b[39;49m\u001b[38;5;241;43m+\u001b[39;49m\u001b[38;5;28;43mstr\u001b[39;49m\u001b[43m(\u001b[49m\u001b[43mtempSpike\u001b[49m\u001b[43m)\u001b[49m\u001b[38;5;241;43m+\u001b[39;49m\u001b[38;5;124;43m\"\u001b[39;49m\u001b[38;5;124;43menergy\u001b[39;49m\u001b[38;5;124;43m\"\u001b[39;49m\u001b[38;5;241;43m+\u001b[39;49m\u001b[38;5;28;43mstr\u001b[39;49m\u001b[43m(\u001b[49m\u001b[43menergy\u001b[49m\u001b[43m)\u001b[49m\u001b[38;5;241;43m+\u001b[39;49m\u001b[38;5;124;43m\"\u001b[39;49m\u001b[38;5;124;43mr\u001b[39;49m\u001b[38;5;124;43m\"\u001b[39;49m\u001b[38;5;241;43m+\u001b[39;49m\u001b[38;5;28;43mstr\u001b[39;49m\u001b[43m(\u001b[49m\u001b[43mradius\u001b[49m\u001b[43m)\u001b[49m\u001b[38;5;241;43m+\u001b[39;49m\u001b[38;5;124;43m\"\u001b[39;49m\u001b[38;5;124;43m.gsd\u001b[39;49m\u001b[38;5;124;43m\"\u001b[39;49m\u001b[43m)\u001b[49m\n",
      "File \u001b[0;32m~/anaconda3/envs/md/lib/python3.12/site-packages/hoomd/simulation.py:230\u001b[0m, in \u001b[0;36mSimulation.create_state_from_gsd\u001b[0;34m(self, filename, frame, domain_decomposition)\u001b[0m\n\u001b[1;32m    228\u001b[0m filename \u001b[38;5;241m=\u001b[39m _hoomd\u001b[38;5;241m.\u001b[39mmpi_bcast_str(filename, \u001b[38;5;28mself\u001b[39m\u001b[38;5;241m.\u001b[39mdevice\u001b[38;5;241m.\u001b[39m_cpp_exec_conf)\n\u001b[1;32m    229\u001b[0m \u001b[38;5;66;03m# Grab snapshot and timestep\u001b[39;00m\n\u001b[0;32m--> 230\u001b[0m reader \u001b[38;5;241m=\u001b[39m \u001b[43m_hoomd\u001b[49m\u001b[38;5;241;43m.\u001b[39;49m\u001b[43mGSDReader\u001b[49m\u001b[43m(\u001b[49m\u001b[38;5;28;43mself\u001b[39;49m\u001b[38;5;241;43m.\u001b[39;49m\u001b[43mdevice\u001b[49m\u001b[38;5;241;43m.\u001b[39;49m\u001b[43m_cpp_exec_conf\u001b[49m\u001b[43m,\u001b[49m\u001b[43m \u001b[49m\u001b[43mfilename\u001b[49m\u001b[43m,\u001b[49m\n\u001b[1;32m    231\u001b[0m \u001b[43m                          \u001b[49m\u001b[38;5;28;43mabs\u001b[39;49m\u001b[43m(\u001b[49m\u001b[43mframe\u001b[49m\u001b[43m)\u001b[49m\u001b[43m,\u001b[49m\u001b[43m \u001b[49m\u001b[43mframe\u001b[49m\u001b[43m \u001b[49m\u001b[38;5;241;43m<\u001b[39;49m\u001b[43m \u001b[49m\u001b[38;5;241;43m0\u001b[39;49m\u001b[43m)\u001b[49m\n\u001b[1;32m    232\u001b[0m snapshot \u001b[38;5;241m=\u001b[39m Snapshot\u001b[38;5;241m.\u001b[39m_from_cpp_snapshot(reader\u001b[38;5;241m.\u001b[39mgetSnapshot(),\n\u001b[1;32m    233\u001b[0m                                        \u001b[38;5;28mself\u001b[39m\u001b[38;5;241m.\u001b[39mdevice\u001b[38;5;241m.\u001b[39mcommunicator)\n\u001b[1;32m    235\u001b[0m step \u001b[38;5;241m=\u001b[39m reader\u001b[38;5;241m.\u001b[39mgetTimeStep() \u001b[38;5;28;01mif\u001b[39;00m \u001b[38;5;28mself\u001b[39m\u001b[38;5;241m.\u001b[39mtimestep \u001b[38;5;129;01mis\u001b[39;00m \u001b[38;5;28;01mNone\u001b[39;00m \u001b[38;5;28;01melse\u001b[39;00m \u001b[38;5;28mself\u001b[39m\u001b[38;5;241m.\u001b[39mtimestep\n",
      "\u001b[0;31mRuntimeError\u001b[0m: GSD: No such file or directory - longerRun14energy0.9r6.gsd"
     ]
    }
   ],
   "source": [
    "cpu = hoomd.device.CPU()\n",
    "simulation = hoomd.Simulation(device=cpu, seed=1)\n",
    "simulation.create_state_from_gsd(filename=\"longerRun\"+str(tempSpike)+\"energy\"+str(energy)+\"r\"+str(radius)+\".gsd\")"
   ]
  },
  {
   "cell_type": "code",
   "execution_count": null,
   "id": "14db8291-ccce-438d-9b87-921531a655a7",
   "metadata": {},
   "outputs": [],
   "source": [
    "with gsd.hoomd.open(\"longerRun\"+str(tempSpike)+\"energy\"+str(energy)+\"r\"+str(radius)+\".gsd\", 'r') as f:\n",
    "    num_frames = len(f)\n",
    "    last_frame = f[num_frames - 1]\n",
    "\n",
    "positions = last_frame.particles.position[:, :2]  # get x, y\n",
    "\n",
    "positions = np.array(positions)\n",
    "\n",
    "plt.figure(figsize=(8, 6))\n",
    "plt.hist2d(positions[:, 0], positions[:, 1], bins=50, cmap='viridis')\n",
    "plt.colorbar(label='Counts')\n",
    "plt.xlabel('X Position')\n",
    "plt.ylabel('Y Position')\n",
    "plt.title('2D Histogram of Particle Positions (Last Timestep Frame)')\n",
    "plt.show()\n"
   ]
  },
  {
   "cell_type": "code",
   "execution_count": null,
   "id": "2efb5c6c-7a8e-47ff-8ff4-a9d269b84c35",
   "metadata": {},
   "outputs": [],
   "source": [
    "# last frame is at last time step\n",
    "with gsd.hoomd.open(\"longerRun\"+str(tempSpike)+\"energy\"+str(energy)+\"r\"+str(radius)+\".gsd\", 'r') as f:\n",
    "    num_frames = len(f)\n",
    "    last_frame = f[num_frames - 1]\n",
    "\n",
    "positions = last_frame.particles.position[np.abs(last_frame.particles.position[:, 2]) < 3] # get x, y\n",
    "\n",
    "positions = np.array(positions)\n",
    "\n",
    "plt.figure(figsize=(8, 6))\n",
    "plt.hist2d(positions[:, 0], positions[:, 1], bins=50, cmap='viridis')\n",
    "plt.colorbar(label='Counts')\n",
    "plt.xlabel('X Position')\n",
    "plt.ylabel('Y Position')\n",
    "plt.title('2D Histogram of Particle Positions (Last Timestep Frame) z<3')\n",
    "plt.show()"
   ]
  },
  {
   "cell_type": "code",
   "execution_count": null,
   "id": "deaaeb0c-721c-4260-997e-0adec06b7ba9",
   "metadata": {},
   "outputs": [],
   "source": [
    "render(simulation.state.get_snapshot())\n",
    "#what pressure and temp does it end at\n",
    "    # make lennard-jones plot with this info\n",
    "#r3 14 superheated no bubble\n",
    "# r6 T100 will hyppothetically need to run for longer\n",
    "    # supercritical\n",
    "    # if all bubbles; reduce r3t14 energy and size"
   ]
  },
  {
   "cell_type": "code",
   "execution_count": null,
   "id": "60a35603-85bc-431e-9cb3-45ae08bada6c",
   "metadata": {},
   "outputs": [],
   "source": [
    "hdf5_file = h5py.File(name=\"longerRun\"+str(tempSpike)+\"energy\"+str(energy)+\"r\"+str(radius)+\".gsd\", mode='r')"
   ]
  },
  {
   "cell_type": "code",
   "execution_count": null,
   "id": "5e2220b4-6cc1-4c2b-b331-f41a6feaa1ff",
   "metadata": {},
   "outputs": [],
   "source": [
    "pressure_data = np.float64(hdf5_file['hoomd-data/md/compute/ThermodynamicQuantities/pressure'][:])\n",
    "temperature_data = np.float64(hdf5_file['hoomd-data/md/compute/ThermodynamicQuantities/kinetic_temperature'][:])"
   ]
  },
  {
   "cell_type": "code",
   "execution_count": null,
   "id": "7769e75e-c705-4932-9192-431f7e5b4eac",
   "metadata": {},
   "outputs": [],
   "source": [
    "# pressure vs time\n",
    "timesteps = np.float64(hdf5_file['hoomd-data/Simulation/timestep'][:])\n",
    "\n",
    "plt.plot(timesteps, pressure_data, label='Pressure')\n",
    "plt.plot(timesteps, temperature_data, label='Temperature')\n",
    "plt.xlabel('timestep')\n",
    "plt.ylabel('Value')\n",
    "plt.legend()\n",
    "plt.show()"
   ]
  },
  {
   "cell_type": "code",
   "execution_count": null,
   "id": "57d3e34d-940a-40a7-988f-95eaf5d701fc",
   "metadata": {},
   "outputs": [],
   "source": [
    "plt.plot(timesteps, pressure_data)\n",
    "plt.xlabel('Timestep')\n",
    "plt.ylabel('Value: Pressure')\n",
    "plt.show()"
   ]
  },
  {
   "cell_type": "code",
   "execution_count": null,
   "id": "6014f1b5-028b-4433-9b42-cab610421eba",
   "metadata": {},
   "outputs": [],
   "source": [
    "plt.plot(timesteps, temperature_data)\n",
    "plt.xlabel('Timestep')\n",
    "plt.ylabel('Value : Temperature')\n",
    "plt.show()"
   ]
  },
  {
   "cell_type": "code",
   "execution_count": null,
   "id": "2eda453d-c62d-4c3a-88d3-c2d7dc3b01b0",
   "metadata": {},
   "outputs": [],
   "source": []
  }
 ],
 "metadata": {
  "kernelspec": {
   "display_name": "Python 3 (ipykernel)",
   "language": "python",
   "name": "python3"
  },
  "language_info": {
   "codemirror_mode": {
    "name": "ipython",
    "version": 3
   },
   "file_extension": ".py",
   "mimetype": "text/x-python",
   "name": "python",
   "nbconvert_exporter": "python",
   "pygments_lexer": "ipython3",
   "version": "3.12.0"
  }
 },
 "nbformat": 4,
 "nbformat_minor": 5
}
