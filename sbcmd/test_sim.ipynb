import numpy as np
import hoomd
import gsd.hoomd
import pandas as pd
import h5py
import matplotlib.pyplot as plt
import re

def FillBoxCubicLattice(xlim=np.float64([-5, 5]),
                        ylim=np.float64([-5, 5]),
                        zlim=np.float64([-5, 5]),
                        rho=np.float64(1)):
    cellsize = rho ** (-1.0 / 3.0)
    nx = int(np.floor((xlim[1] - xlim[0]) / cellsize))
    ny = int(np.floor((ylim[1] - ylim[0]) / cellsize))
    nz = int(np.floor((zlim[1] - zlim[0]) / cellsize))

    xoffset = xlim[0] + 0.5 * ((xlim[1] - xlim[0]) - cellsize * nx)
    yoffset = ylim[0] + 0.5 * ((ylim[1] - ylim[0]) - cellsize * ny)
    zoffset = zlim[0] + 0.5 * ((zlim[1] - zlim[0]) - cellsize * nz)

    xvec = cellsize * np.arange(nx) + xoffset
    yvec = cellsize * np.arange(ny) + yoffset
    zvec = cellsize * np.arange(nz) + zoffset

    positions = np.array(np.meshgrid(xvec, yvec, zvec, indexing='ij')).reshape(3, -1).T
    return positions

def FillBoxRandom(xlim=np.float64([-5, 5]),
                  ylim=np.float64([-5, 5]),
                  zlim=np.float64([-5, 5]),
                  rho=np.float64(1)):
    Lx = xlim[1] - xlim[0]
    Ly = ylim[1] - ylim[0]
    Lz = zlim[1] - zlim[0]
    volume = Lx * Ly * Lz
    numparticles = int(np.floor(volume * rho))
    positions = np.random.rand(numparticles, 3) * np.array([Lx, Ly, Lz]) \
                + np.array([xlim[0], ylim[0], zlim[0]])
    return positions

def FillBoxTwoPhase(xlim=np.float64([-5, 5]),
                    ylim=np.float64([-5, 5]),
                    zlim=np.float64([-5, 5]),
                    rho_liquid=np.float64(0.85),
                    rho_vapor=np.float64(0.1)):
    Lx = xlim[1] - xlim[0]
    Ly = ylim[1] - ylim[0]
    Lz = zlim[1] - zlim[0]
    half_Lz = Lz / 2.0

    # Liquid region
    positions_liquid = FillBoxCubicLattice(
        xlim=[xlim[0], xlim[1]],
        ylim=[ylim[0], ylim[1]],
        zlim=[zlim[0], zlim[0] + half_Lz],
        rho=rho_liquid
    )

    # Vapor region
    positions_vapor = FillBoxRandom(
        xlim=[xlim[0], xlim[1]],
        ylim=[ylim[0], ylim[1]],
        zlim=[zlim[0] + half_Lz, zlim[1]],
        rho=rho_vapor
    )

    # Combine liquid + vapor
    positions = np.vstack((positions_liquid, positions_vapor))
    return positions

def SelectLJModel(rcut=3.0, forceshift=False, tail_correction=False, mode="none", r_on=2.9):
    nl = hoomd.md.nlist.Cell(buffer=0.4)
    if forceshift:
        lj = hoomd.md.pair.ForceShiftedLJ(nlist=nl, default_r_cut=rcut)
    else:
        if mode == "xplor":
            lj = hoomd.md.pair.LJ(nlist=nl, default_r_cut=rcut,
                                  default_r_on=r_on,
                                  mode=mode, tail_correction=tail_correction)
        else:
            lj = hoomd.md.pair.LJ(nlist=nl, default_r_cut=rcut,
                                  mode=mode, tail_correction=tail_correction)
    lj.params[('A', 'A')] = dict(epsilon=1.0, sigma=1.0)
    return lj

def RunVaporPressureCalc(logfile, lj, L=10., kT=0.8, nsteps=int(1e5), equil_steps=int(1e4)):
    '''
    Runs a simulation to calculate vapor pressure.
    '''
    boxlimit = np.array([-0.5*L, 0.5*L])
    positions = FillBoxCubicLattice(xlim=boxlimit, ylim=boxlimit, zlim=boxlimit, rho=0.125)
    N_particles = positions.shape[0]

    # Initialize frame and set types before typeid
    frame = gsd.hoomd.Frame()
    frame.configuration.box = [L, L, L, 0, 0, 0]
    frame.particles.types = ['A']
    frame.particles.N = N_particles
    frame.particles.position = positions
    frame.particles.typeid = [0] * N_particles

    device = hoomd.device.CPU()
    simulation = hoomd.Simulation(device=device, seed=1)
    simulation.create_state_from_snapshot(frame)
    simulation.state.thermalize_particle_momenta(filter=hoomd.filter.All(), kT=kT)

    integrator = hoomd.md.Integrator(dt=0.002)  # Reduced time step for stability
    integrator.forces.append(lj)
    nvt = hoomd.md.methods.ConstantVolume(filter=hoomd.filter.All(),
                                          thermostat=hoomd.md.methods.thermostats.Bussi(kT=kT))
    integrator.methods.append(nvt)
    simulation.operations.integrator = integrator

    thermo = hoomd.md.compute.ThermodynamicQuantities(filter=hoomd.filter.All())
    simulation.operations.computes.append(thermo)

    print("Starting equilibration for vapor pressure calculation...")
    simulation.run(equil_steps)
    print("Equilibration complete. Starting production run...")

    with open(logfile, mode='w', newline='\n') as file:
        logger = hoomd.logging.Logger(categories=['scalar'])
        logger.add(simulation, quantities=['timestep'])
        logger.add(thermo, quantities=['pressure', 'volume', 'num_particles'])
        table_file = hoomd.write.Table(output=file,
                                       trigger=hoomd.trigger.Periodic(period=50),
                                       logger=logger)
        simulation.operations.writers.append(table_file)
        simulation.run(nsteps)
        simulation.operations.writers.remove(table_file)
    print("Vapor pressure simulation complete.")
    return True

def CalcVaporPresure(logfile):
    '''
    Reads logfile and computes average pressure over last 100 records using regex parsing.
    '''
    pattern = re.compile(r"[-+]?\d*\.\d+|[-+]?\d+")
    pressures = []
    with open(logfile, 'r') as f:
        lines = f.readlines()
    for line in lines[1:]:
        numbers = pattern.findall(line)
        if len(numbers) >= 2:
            try:
                pressure_val = float(numbers[1])
                pressures.append(pressure_val)
            except ValueError:
                continue
    if len(pressures) >= 100:
        return np.mean(pressures[-100:])
    elif pressures:
        return np.mean(pressures)
    else:
        return None

def compute_density_ratio(simulation, boundary_z):
    """
    Compute densities of liquid and vapor regions separated by boundary_z along z-axis.
    Returns liquid density, vapor density, and their ratio.
    """
    snapshot = simulation.state.get_snapshot()
    positions = snapshot.particles.position
    N_total = snapshot.particles.N
    Lz = snapshot.configuration.box[2]
    area = snapshot.configuration.box[0] * snapshot.configuration.box[1]
    
    # Count particles below boundary_z (liquid) and above (vapor)
    liquid_count = sum(1 for pos in positions if pos[2] < boundary_z)
    vapor_count = N_total - liquid_count
    
    volume_liquid = area * (boundary_z - (-Lz/2))
    volume_vapor = area * (Lz/2 - boundary_z)
    
    density_liquid = liquid_count / volume_liquid if volume_liquid > 0 else 0
    density_vapor = vapor_count / volume_vapor if volume_vapor > 0 else 0
    
    ratio = density_liquid / density_vapor if density_vapor != 0 else float('inf')
    return density_liquid, density_vapor, ratio

def RunSurfaceTensionCalc(nsteps=5000, equil_steps=5000):
    L = 50.0
    kT = 0.8

    # Reduce z-axis limits slightly to ensure particles are comfortably inside the box
    positions = FillBoxTwoPhase(
        xlim=np.array([-0.5 * L, 0.5 * L]),
        ylim=np.array([-0.5 * L, 0.5 * L]),
        zlim=np.array([-0.9 * L, 0.9 * L]),
        rho_liquid=0.85,
        rho_vapor=0.01
    )
    N_particles = positions.shape[0]

    frame = gsd.hoomd.Frame()
    frame.configuration.box = [L, L, 2 * L, 0, 0, 0]  # Box with periodic boundaries
    frame.particles.types = ['A']
    frame.particles.N = N_particles
    frame.particles.position = positions

    device = hoomd.device.CPU()
    simulation = hoomd.Simulation(device=device, seed=1)
    simulation.create_state_from_snapshot(frame)
    simulation.state.thermalize_particle_momenta(filter=hoomd.filter.All(), kT=kT)

    lj = SelectLJModel(rcut=3.0)
    integrator = hoomd.md.Integrator(dt=0.001)  # Reduced time step for stability
    integrator.forces.append(lj)
    nvt = hoomd.md.methods.ConstantVolume(
        filter=hoomd.filter.All(),
        thermostat=hoomd.md.methods.thermostats.Bussi(kT=kT)
    )
    integrator.methods.append(nvt)
    simulation.operations.integrator = integrator

    thermo = hoomd.md.compute.ThermodynamicQuantities(filter=hoomd.filter.All())
    simulation.operations.computes.append(thermo)

    print("Starting equilibration for surface tension calculation...")
    simulation.run(equil_steps)
    print("Equilibration complete. Starting production run...")

    pressures = []
    for step in range(nsteps // 100):
        simulation.run(100)
        pressure_tensor = np.array(thermo.pressure_tensor)
        P_xx, P_yy, P_zz = pressure_tensor[0], pressure_tensor[1], pressure_tensor[2]
        pressures.append((P_xx, P_yy, P_zz))

    pressures = np.array(pressures)
    P_xx_avg, P_yy_avg, P_zz_avg = pressures.mean(axis=0)

    surface_tension = (P_zz_avg - 0.5 * (P_xx_avg + P_yy_avg)) * (L / 2.0)
    print(f"Calculated surface tension: {surface_tension}")

    boundary_z = 0.0  
    density_liquid, density_vapor, ratio = compute_density_ratio(simulation, boundary_z)
    print(f"Liquid density: {density_liquid}")
    print(f"Vapor density: {density_vapor}")
    print(f"Density ratio (liquid/vapor): {ratio}")

    return {"final_surface_tension": surface_tension, "density_ratio": ratio}



def RunHeatOfVaporizationCalc(L_liquid=10., liquid_density=0.8, 
                              L_gas=10., gas_density=0.05, 
                              kT=0.8, equil_steps=int(1e3), nsteps=int(1e3)):
    '''
    Runs simulations to calculate the heat of vaporization.
    '''
    # Liquid phase simulation
    boxlimit_liquid = np.array([-0.5*L_liquid, 0.5*L_liquid])
    positions_liquid = FillBoxCubicLattice(xlim=boxlimit_liquid, ylim=boxlimit_liquid, 
                                           zlim=boxlimit_liquid, rho=liquid_density)
    N_liquid = positions_liquid.shape[0]
    
    frame_liquid = gsd.hoomd.Frame()
    frame_liquid.configuration.box = [L_liquid, L_liquid, L_liquid, 0, 0, 0]
    frame_liquid.particles.types = ['A']
    frame_liquid.particles.N = N_liquid
    frame_liquid.particles.position = positions_liquid
    frame_liquid.particles.typeid = [0] * N_liquid

    device = hoomd.device.CPU()
    sim_liquid = hoomd.Simulation(device=device, seed=1)
    sim_liquid.create_state_from_snapshot(frame_liquid)
    sim_liquid.state.thermalize_particle_momenta(filter=hoomd.filter.All(), kT=kT)

    lj_liquid = SelectLJModel(rcut=3.0)
    integrator_liquid = hoomd.md.Integrator(dt=0.002)  # Reduced time step for stability
    integrator_liquid.forces.append(lj_liquid)
    nvt_liquid = hoomd.md.methods.ConstantVolume(
        filter=hoomd.filter.All(),
        thermostat=hoomd.md.methods.thermostats.Bussi(kT=kT)
    )
    integrator_liquid.methods.append(nvt_liquid)
    sim_liquid.operations.integrator = integrator_liquid

    thermo_liquid = hoomd.md.compute.ThermodynamicQuantities(filter=hoomd.filter.All())
    sim_liquid.operations.computes.append(thermo_liquid)

    print("Starting equilibration for liquid phase...")
    sim_liquid.run(equil_steps)
    print("Equilibration complete. Starting production run for liquid phase...")

    sim_liquid.run(nsteps)
    print("Production run for liquid phase complete.")
    U_liquid = thermo_liquid.potential_energy / N_liquid

    # Gas phase simulation
    boxlimit_gas = np.array([-0.5*L_gas, 0.5*L_gas])
    positions_gas = FillBoxCubicLattice(xlim=boxlimit_gas, ylim=boxlimit_gas, 
                                        zlim=boxlimit_gas, rho=gas_density)
    N_gas = positions_gas.shape[0]
    
    frame_gas = gsd.hoomd.Frame()
    frame_gas.configuration.box = [L_gas, L_gas, L_gas, 0, 0, 0]
    frame_gas.particles.types = ['A']
    frame_gas.particles.N = N_gas
    frame_gas.particles.position = positions_gas
    frame_gas.particles.typeid = [0] * N_gas

    sim_gas = hoomd.Simulation(device=device, seed=2)
    sim_gas.create_state_from_snapshot(frame_gas)
    sim_gas.state.thermalize_particle_momenta(filter=hoomd.filter.All(), kT=kT)

    lj_gas = SelectLJModel(rcut=3.0)
    integrator_gas = hoomd.md.Integrator(dt=0.002)  # Reduced time step for stability
    integrator_gas.forces.append(lj_gas)
    nvt_gas = hoomd.md.methods.ConstantVolume(
        filter=hoomd.filter.All(),
        thermostat=hoomd.md.methods.thermostats.Bussi(kT=kT)
    )
    integrator_gas.methods.append(nvt_gas)
    sim_gas.operations.integrator = integrator_gas

    thermo_gas = hoomd.md.compute.ThermodynamicQuantities(filter=hoomd.filter.All())
    sim_gas.operations.computes.append(thermo_gas)

    print("Starting equilibration for gas phase...")
    sim_gas.run(equil_steps)
    print("Equilibration complete. Starting production run for gas phase...")

    sim_gas.run(nsteps)
    print("Production run for gas phase complete.")
    U_gas = thermo_gas.potential_energy / N_gas

    heat_of_vaporization = U_gas - U_liquid
    print(f"Heat of Vaporization: {heat_of_vaporization}")
    return {"U_liquid": U_liquid, "U_gas": U_gas, 
            "heat_of_vaporization": heat_of_vaporization}

if __name__ == "__main__":
    lj_model = SelectLJModel(rcut=3.0)

    # Vapor Pressure Calculation
    vp_log = "vapor_pressure_log.txt"
    RunVaporPressureCalc(vp_log, lj_model, L=100., kT=0.8, nsteps=10000, equil_steps=10000)
    vapor_pressure = CalcVaporPresure(vp_log)
    print(f"Calculated Vapor Pressure: {vapor_pressure}")

    # Surface Tension Calculation
    surface_results = RunSurfaceTensionCalc(nsteps=10000, equil_steps=10000)
    print(f"Calculated Surface Tension: {surface_results['final_surface_tension']}")

    # Heat of Vaporization Calculation
    hovap_results = RunHeatOfVaporizationCalc(
        L_liquid=10., liquid_density=0.8,
        L_gas=10., gas_density=0.01, kT=0.8,
        equil_steps=1000, nsteps=1000
    )
    print(f"Heat of Vaporization: {hovap_results['heat_of_vaporization']}")
