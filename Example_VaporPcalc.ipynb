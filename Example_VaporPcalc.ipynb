{
 "cells": [
  {
   "cell_type": "code",
   "execution_count": 1,
   "id": "8b4f80bf-7e08-4781-aae2-102ac4180aee",
   "metadata": {},
   "outputs": [],
   "source": [
    "import numpy as np\n",
    "import matplotlib.pyplot as plt\n",
    "import hoomd\n",
    "import pandas as pd\n",
    "import time"
   ]
  },
  {
   "cell_type": "code",
   "execution_count": 2,
   "id": "904fa64c-6efa-40b6-a9ef-813b23a06662",
   "metadata": {},
   "outputs": [
    {
     "name": "stderr",
     "output_type": "stream",
     "text": [
      "/home/cdahl/python/MDsims/sbcmd/thermocalcs.py:183: SyntaxWarning: invalid escape sequence '\\s'\n",
      "  data = pd.read_csv(logfile,sep='\\s+',header=None)\n"
     ]
    }
   ],
   "source": [
    "import sbcmd.thermocalcs as tc"
   ]
  },
  {
   "cell_type": "code",
   "execution_count": 3,
   "id": "79351718-c898-4440-a4bd-b496d7530b27",
   "metadata": {},
   "outputs": [],
   "source": [
    "lj = tc.SelectLJModel(rcut=2.5)"
   ]
  },
  {
   "cell_type": "code",
   "execution_count": 4,
   "id": "57dcf0ed-3a5d-4fb7-b74d-ff8c6eac57d2",
   "metadata": {},
   "outputs": [],
   "source": [
    "starttime = time.time()\n",
    "tc.RunVaporPressureCalc(logfile=\"Example_VaporPcalc.log\", lj=lj, L=30., kT=0.8, nsteps=1e5)\n",
    "stoptime = time.time()\n",
    "elapsedtime = stoptime-starttime"
   ]
  },
  {
   "cell_type": "code",
   "execution_count": 5,
   "id": "1ddf98c8-8bfe-414b-82f7-137cf69ef128",
   "metadata": {},
   "outputs": [
    {
     "data": {
      "text/plain": [
       "14.931416511535645"
      ]
     },
     "execution_count": 5,
     "metadata": {},
     "output_type": "execute_result"
    }
   ],
   "source": [
    "elapsedtime"
   ]
  },
  {
   "cell_type": "code",
   "execution_count": null,
   "id": "2a373985-6b97-4160-9865-cf78fc0254df",
   "metadata": {},
   "outputs": [],
   "source": []
  }
 ],
 "metadata": {
  "kernelspec": {
   "display_name": "cdahl_md",
   "language": "python",
   "name": "cdahl_md"
  },
  "language_info": {
   "codemirror_mode": {
    "name": "ipython",
    "version": 3
   },
   "file_extension": ".py",
   "mimetype": "text/x-python",
   "name": "python",
   "nbconvert_exporter": "python",
   "pygments_lexer": "ipython3",
   "version": "3.13.0"
  }
 },
 "nbformat": 4,
 "nbformat_minor": 5
}
