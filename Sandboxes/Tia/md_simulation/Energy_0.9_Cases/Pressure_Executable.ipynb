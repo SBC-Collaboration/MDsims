{
 "cells": [
  {
   "cell_type": "code",
   "execution_count": 1,
   "id": "05065da5-0e1b-4b9d-9c53-af1b187e3aa9",
   "metadata": {},
   "outputs": [],
   "source": [
    "import numpy as np\n",
    "import h5py\n",
    "import matplotlib.pyplot as plt"
   ]
  },
  {
   "cell_type": "code",
   "execution_count": 2,
   "id": "58df6f42-8779-4068-ab25-918526167130",
   "metadata": {},
   "outputs": [],
   "source": [
    "energy = 0.9\n",
    "pressure= .004\n",
    "radius = 2\n",
    "tempSpike = 8"
   ]
  },
  {
   "cell_type": "code",
   "execution_count": 3,
   "id": "12559c2d-59f4-4b29-9985-77316ce86689",
   "metadata": {},
   "outputs": [],
   "source": [
    "filename = \"longerRun\" + str(tempSpike) + \"energy\" + str(energy) + \"r\" + str(radius) + \".h5\"\n",
    "hdf5_file = h5py.File(filename, 'r')"
   ]
  },
  {
   "cell_type": "code",
   "execution_count": 5,
   "id": "d473ef84-dca2-4663-a95d-9cec1cd2e278",
   "metadata": {},
   "outputs": [
    {
     "name": "stdout",
     "output_type": "stream",
     "text": [
      "degrees_of_freedom\n",
      "kinetic_energy\n",
      "kinetic_temperature\n",
      "num_particles\n",
      "potential_energy\n",
      "pressure\n",
      "pressure_tensor\n",
      "rotational_degrees_of_freedom\n",
      "rotational_kinetic_energy\n",
      "translational_degrees_of_freedom\n",
      "translational_kinetic_energy\n",
      "volume\n"
     ]
    }
   ],
   "source": [
    "with h5py.File(\"longerRun\"+str(tempSpike)+\"energy\"+str(energy)+\"r\"+str(radius)+\".h5\", 'r') as hdf5_file:\n",
    "    for key in hdf5_file['hoomd-data/md/compute/ThermodynamicQuantities'].keys():\n",
    "        print(key)"
   ]
  },
  {
   "cell_type": "code",
   "execution_count": 9,
   "id": "780e85f9-a09a-4895-bd17-a07be349f646",
   "metadata": {},
   "outputs": [
    {
     "ename": "KeyError",
     "evalue": "'Unable to synchronously open object (invalid identifier type to function)'",
     "output_type": "error",
     "traceback": [
      "\u001b[0;31m---------------------------------------------------------------------------\u001b[0m",
      "\u001b[0;31mKeyError\u001b[0m                                  Traceback (most recent call last)",
      "Cell \u001b[0;32mIn[9], line 1\u001b[0m\n\u001b[0;32m----> 1\u001b[0m pressure_tensor \u001b[38;5;241m=\u001b[39m np\u001b[38;5;241m.\u001b[39mfloat64(\u001b[43mhdf5_file\u001b[49m\u001b[43m[\u001b[49m\u001b[38;5;124;43m'\u001b[39;49m\u001b[38;5;124;43mhoomd-data/md/compute/ThermodynamicQuantities/kinetic_energy\u001b[39;49m\u001b[38;5;124;43m'\u001b[39;49m\u001b[43m]\u001b[49m[:])\n",
      "File \u001b[0;32mh5py/_objects.pyx:54\u001b[0m, in \u001b[0;36mh5py._objects.with_phil.wrapper\u001b[0;34m()\u001b[0m\n",
      "File \u001b[0;32mh5py/_objects.pyx:55\u001b[0m, in \u001b[0;36mh5py._objects.with_phil.wrapper\u001b[0;34m()\u001b[0m\n",
      "File \u001b[0;32m~/anaconda3/envs/md/lib/python3.12/site-packages/h5py/_hl/group.py:357\u001b[0m, in \u001b[0;36mGroup.__getitem__\u001b[0;34m(self, name)\u001b[0m\n\u001b[1;32m    355\u001b[0m         \u001b[38;5;28;01mraise\u001b[39;00m \u001b[38;5;167;01mValueError\u001b[39;00m(\u001b[38;5;124m\"\u001b[39m\u001b[38;5;124mInvalid HDF5 object reference\u001b[39m\u001b[38;5;124m\"\u001b[39m)\n\u001b[1;32m    356\u001b[0m \u001b[38;5;28;01melif\u001b[39;00m \u001b[38;5;28misinstance\u001b[39m(name, (\u001b[38;5;28mbytes\u001b[39m, \u001b[38;5;28mstr\u001b[39m)):\n\u001b[0;32m--> 357\u001b[0m     oid \u001b[38;5;241m=\u001b[39m \u001b[43mh5o\u001b[49m\u001b[38;5;241;43m.\u001b[39;49m\u001b[43mopen\u001b[49m\u001b[43m(\u001b[49m\u001b[38;5;28;43mself\u001b[39;49m\u001b[38;5;241;43m.\u001b[39;49m\u001b[43mid\u001b[49m\u001b[43m,\u001b[49m\u001b[43m \u001b[49m\u001b[38;5;28;43mself\u001b[39;49m\u001b[38;5;241;43m.\u001b[39;49m\u001b[43m_e\u001b[49m\u001b[43m(\u001b[49m\u001b[43mname\u001b[49m\u001b[43m)\u001b[49m\u001b[43m,\u001b[49m\u001b[43m \u001b[49m\u001b[43mlapl\u001b[49m\u001b[38;5;241;43m=\u001b[39;49m\u001b[38;5;28;43mself\u001b[39;49m\u001b[38;5;241;43m.\u001b[39;49m\u001b[43m_lapl\u001b[49m\u001b[43m)\u001b[49m\n\u001b[1;32m    358\u001b[0m \u001b[38;5;28;01melse\u001b[39;00m:\n\u001b[1;32m    359\u001b[0m     \u001b[38;5;28;01mraise\u001b[39;00m \u001b[38;5;167;01mTypeError\u001b[39;00m(\u001b[38;5;124m\"\u001b[39m\u001b[38;5;124mAccessing a group is done with bytes or str, \u001b[39m\u001b[38;5;124m\"\u001b[39m\n\u001b[1;32m    360\u001b[0m                     \u001b[38;5;124m\"\u001b[39m\u001b[38;5;124mnot \u001b[39m\u001b[38;5;132;01m{}\u001b[39;00m\u001b[38;5;124m\"\u001b[39m\u001b[38;5;241m.\u001b[39mformat(\u001b[38;5;28mtype\u001b[39m(name)))\n",
      "File \u001b[0;32mh5py/_objects.pyx:54\u001b[0m, in \u001b[0;36mh5py._objects.with_phil.wrapper\u001b[0;34m()\u001b[0m\n",
      "File \u001b[0;32mh5py/_objects.pyx:55\u001b[0m, in \u001b[0;36mh5py._objects.with_phil.wrapper\u001b[0;34m()\u001b[0m\n",
      "File \u001b[0;32mh5py/h5o.pyx:189\u001b[0m, in \u001b[0;36mh5py.h5o.open\u001b[0;34m()\u001b[0m\n",
      "\u001b[0;31mKeyError\u001b[0m: 'Unable to synchronously open object (invalid identifier type to function)'"
     ]
    }
   ],
   "source": [
    "pressure_tensor = np.float64(hdf5_file['hoomd-data/md/compute/ThermodynamicQuantities/kinetic_energy'][:])\n"
   ]
  },
  {
   "cell_type": "code",
   "execution_count": 7,
   "id": "bec4b866-926c-4e49-8a60-b667c54c1a83",
   "metadata": {},
   "outputs": [
    {
     "ename": "NameError",
     "evalue": "name 'pressure_tensor' is not defined",
     "output_type": "error",
     "traceback": [
      "\u001b[0;31m---------------------------------------------------------------------------\u001b[0m",
      "\u001b[0;31mNameError\u001b[0m                                 Traceback (most recent call last)",
      "Cell \u001b[0;32mIn[7], line 1\u001b[0m\n\u001b[0;32m----> 1\u001b[0m \u001b[38;5;28;01mif\u001b[39;00m \u001b[43mpressure_tensor\u001b[49m\u001b[38;5;241m.\u001b[39msize \u001b[38;5;241m>\u001b[39m \u001b[38;5;241m0\u001b[39m:\n\u001b[1;32m      2\u001b[0m     \u001b[38;5;28mprint\u001b[39m(\u001b[38;5;124m\"\u001b[39m\u001b[38;5;124mThe pressure_tensor array is not empty.\u001b[39m\u001b[38;5;124m\"\u001b[39m)\n\u001b[1;32m      3\u001b[0m \u001b[38;5;28;01melse\u001b[39;00m:\n",
      "\u001b[0;31mNameError\u001b[0m: name 'pressure_tensor' is not defined"
     ]
    }
   ],
   "source": [
    "if pressure_tensor.size > 0:\n",
    "    print(\"The pressure_tensor array is not empty.\")\n",
    "else:\n",
    "    print(\"The pressure_tensor array is empty.\")\n"
   ]
  },
  {
   "cell_type": "code",
   "execution_count": 6,
   "id": "fa28d854-8d51-49ae-a841-098289f3d661",
   "metadata": {},
   "outputs": [
    {
     "ename": "NameError",
     "evalue": "name 'pressure_tensor' is not defined",
     "output_type": "error",
     "traceback": [
      "\u001b[0;31m---------------------------------------------------------------------------\u001b[0m",
      "\u001b[0;31mNameError\u001b[0m                                 Traceback (most recent call last)",
      "Cell \u001b[0;32mIn[6], line 1\u001b[0m\n\u001b[0;32m----> 1\u001b[0m P_xx \u001b[38;5;241m=\u001b[39m \u001b[43mpressure_tensor\u001b[49m[:, \u001b[38;5;241m0\u001b[39m, \u001b[38;5;241m0\u001b[39m]  \u001b[38;5;66;03m# pressure in x-direction\u001b[39;00m\n\u001b[1;32m      2\u001b[0m P_yy \u001b[38;5;241m=\u001b[39m pressure_tensor[:, \u001b[38;5;241m1\u001b[39m, \u001b[38;5;241m1\u001b[39m]  \u001b[38;5;66;03m# pressure in y-direction\u001b[39;00m\n",
      "\u001b[0;31mNameError\u001b[0m: name 'pressure_tensor' is not defined"
     ]
    }
   ],
   "source": [
    "P_xx = pressure_tensor[:, 0, 0]  # pressure in x-direction\n",
    "P_yy = pressure_tensor[:, 1, 1]  # pressure in y-direction"
   ]
  },
  {
   "cell_type": "code",
   "execution_count": null,
   "id": "00974580-c4c4-46c0-8aed-259826a52efd",
   "metadata": {},
   "outputs": [],
   "source": [
    "surface_tension = (P_yy - P_xx) / 2"
   ]
  },
  {
   "cell_type": "code",
   "execution_count": null,
   "id": "ae983bbe-ded8-4cbd-b4e7-1ed9ca2bd52c",
   "metadata": {},
   "outputs": [],
   "source": [
    "timesteps = np.arange(len(surface_tension)) \n",
    "plt.plot(timesteps, surface_tension)\n",
    "plt.xlabel('Timestep')\n",
    "plt.ylabel('Surface Tension')\n",
    "plt.title('Surface Tension Over Time')\n",
    "plt.show()"
   ]
  },
  {
   "cell_type": "code",
   "execution_count": null,
   "id": "b3048892-dfe4-4f0c-b7fc-9bbf9b929c4e",
   "metadata": {},
   "outputs": [],
   "source": [
    "np.savetxt(\"surface_tension_data.txt\", np.column_stack((timesteps, surface_tension)), \n",
    "           header=\"Timestep Surface_Tension\", fmt=\"%d %.6f\")\n"
   ]
  }
 ],
 "metadata": {
  "kernelspec": {
   "display_name": "Python 3 (ipykernel)",
   "language": "python",
   "name": "python3"
  },
  "language_info": {
   "codemirror_mode": {
    "name": "ipython",
    "version": 3
   },
   "file_extension": ".py",
   "mimetype": "text/x-python",
   "name": "python",
   "nbconvert_exporter": "python",
   "pygments_lexer": "ipython3",
   "version": "3.12.0"
  }
 },
 "nbformat": 4,
 "nbformat_minor": 5
}
